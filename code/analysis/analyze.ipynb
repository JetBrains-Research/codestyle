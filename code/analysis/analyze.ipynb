{
 "cells": [
  {
   "cell_type": "code",
   "execution_count": 26,
   "outputs": [],
   "source": [
    "import pandas as pd\n",
    "import pickle\n",
    "from scipy import spatial\n",
    "\n",
    "\n",
    "def load_df(path):\n",
    "    df = pd.read_csv(path)\n",
    "    return df\n",
    "\n",
    "def get_distance(point1, point2):\n",
    "    return spatial.distance.cosine(point1, point2)\n",
    "\n",
    "def to_floats(vector_str):\n",
    "    return [float(s) for s in vector_str.split(\" \")]\n",
    "    "
   ],
   "metadata": {
    "collapsed": false,
    "pycharm": {
     "name": "#%%\n",
     "is_executing": false
    }
   }
  },
  {
   "cell_type": "code",
   "execution_count": 27,
   "outputs": [],
   "source": [
    "def load_run_data(run_index):\n",
    "    data_path = \"../pythonminer/out/intellij-community/generated_data_6x_1Ksamples/run_0{}/vectorization_4_packs_1000_samples.csv\".format(str(run_index))\n",
    "    print(data_path)\n",
    "    df = load_df(data_path)\n",
    "    \n",
    "    df['vector'] = df['vector'].apply(to_floats)\n",
    "    df.sort_values(by=['entity'], inplace=True)\n",
    "\n",
    "    max_bucket = df[\"time_bucket\"].max()\n",
    "    \n",
    "    dist_data = []\n",
    "    \n",
    "    entities_per_bucket = []\n",
    "    \n",
    "    for bucket_index in range(0, max_bucket+1):\n",
    "        # print(\"bucket\", bucket_index)\n",
    "        cur_bucket = df[df[\"time_bucket\"] == bucket_index]\n",
    "        \n",
    "        # print(cur_bucket.describe())\n",
    "        \n",
    "        entities = cur_bucket['entity'].unique().tolist()\n",
    "        entities.sort()\n",
    "        print(\"{} entities active in bucket {} of {}\".format(len(entities), bucket_index+1, max_bucket+1))\n",
    "        # print(entities)\n",
    "        entities_per_bucket.append(entities)\n",
    "        \n",
    "        vector_per_entity = {}\n",
    "        for index, r in cur_bucket.iterrows():\n",
    "            entity, vec = r['entity'], r['vector']\n",
    "            vector_per_entity[entity] = vec\n",
    "        \n",
    "        for e1 in entities:\n",
    "            vec1 = vector_per_entity[e1]\n",
    "            for e2 in entities:\n",
    "                if e2 > e1:\n",
    "                    vec2 = vector_per_entity[e2]\n",
    "                    # print(e1, e2)\n",
    "                    dist_data.append([bucket_index, (e1, e2), get_distance(vec1, vec2), vec1, vec2])\n",
    "                    \n",
    "        # for index, row in cur_bucket.iterrows():\n",
    "        #     print(row['vector'])\n",
    "        \n",
    "    dist_data_names = ['bucket', 'entities', 'distance', 'vec1', 'vec2']\n",
    "    dist_df = pd.DataFrame(dist_data, columns=dist_data_names)\n",
    "    \n",
    "    dist_df.sort_values(by=['entities'], inplace=True)\n",
    "    \n",
    "    # dist_df\n",
    "    \n",
    "    all_entity_pairs = dist_df['entities'].unique()\n",
    "    # print(all_entity_pairs)\n",
    "    def intersection_size(list1, list2):\n",
    "        return len(set(list1) & set(list2))\n",
    "    \n",
    "    for i in range(1, len(entities_per_bucket)):\n",
    "        ent1 = entities_per_bucket[i-1]\n",
    "        ent2 = entities_per_bucket[i]\n",
    "        # print(\"Entities intersection between buckets {} and {}: {}\".format(i, i+1, intersection_size(ent1, ent2)))\n",
    "    \n",
    "    \n",
    "    \n",
    "    dist_trends = {ep : [] for ep in all_entity_pairs}\n",
    "    avg_dist = []\n",
    "    for bucket_index in range(0, max_bucket+1):\n",
    "        # print(\"processing bucket \", bucket_index)\n",
    "        dist_per_entitypair = {}\n",
    "        cur_bucket_df = dist_df[dist_df[\"bucket\"] == bucket_index]\n",
    "        \n",
    "        for index, r in cur_bucket_df.iterrows():\n",
    "            dist_per_entitypair[r['entities']] = r['distance']\n",
    "            \n",
    "        for entity_pair in all_entity_pairs:\n",
    "            if entity_pair in dist_per_entitypair:\n",
    "                dist_trends[entity_pair].append(dist_per_entitypair[entity_pair])\n",
    "            else:\n",
    "                dist_trends[entity_pair].append(None)\n",
    "            \n",
    "                \n",
    "        average_distance = cur_bucket_df['distance'].mean()\n",
    "        avg_dist.append(average_distance)        \n",
    "    \n",
    "    avg_dist\n",
    "    return dist_trends"
   ],
   "metadata": {
    "collapsed": false,
    "pycharm": {
     "name": "#%%\n",
     "is_executing": false
    }
   }
  },
  {
   "cell_type": "code",
   "execution_count": 28,
   "outputs": [
    {
     "name": "stdout",
     "text": [
      "../pythonminer/out/intellij-community/generated_data_6x_1Ksamples/run_01/vectorization_4_packs_1000_samples.csv\n27 entities active in bucket 1 of 10\n38 entities active in bucket 2 of 10\n47 entities active in bucket 3 of 10\n53 entities active in bucket 4 of 10\n63 entities active in bucket 5 of 10\n",
      "71 entities active in bucket 6 of 10\n74 entities active in bucket 7 of 10\n",
      "83 entities active in bucket 8 of 10\n87 entities active in bucket 9 of 10\n",
      "83 entities active in bucket 10 of 10\n",
      "../pythonminer/out/intellij-community/generated_data_6x_1Ksamples/run_02/vectorization_4_packs_1000_samples.csv\n27 entities active in bucket 1 of 10\n38 entities active in bucket 2 of 10\n47 entities active in bucket 3 of 10\n53 entities active in bucket 4 of 10\n63 entities active in bucket 5 of 10\n",
      "71 entities active in bucket 6 of 10\n74 entities active in bucket 7 of 10\n",
      "83 entities active in bucket 8 of 10\n87 entities active in bucket 9 of 10\n",
      "83 entities active in bucket 10 of 10\n",
      "../pythonminer/out/intellij-community/generated_data_6x_1Ksamples/run_03/vectorization_4_packs_1000_samples.csv\n27 entities active in bucket 1 of 10\n38 entities active in bucket 2 of 10\n47 entities active in bucket 3 of 10\n53 entities active in bucket 4 of 10\n63 entities active in bucket 5 of 10\n",
      "71 entities active in bucket 6 of 10\n74 entities active in bucket 7 of 10\n",
      "83 entities active in bucket 8 of 10\n87 entities active in bucket 9 of 10\n",
      "83 entities active in bucket 10 of 10\n",
      "../pythonminer/out/intellij-community/generated_data_6x_1Ksamples/run_04/vectorization_4_packs_1000_samples.csv\n27 entities active in bucket 1 of 10\n38 entities active in bucket 2 of 10\n47 entities active in bucket 3 of 10\n53 entities active in bucket 4 of 10\n63 entities active in bucket 5 of 10\n",
      "71 entities active in bucket 6 of 10\n74 entities active in bucket 7 of 10\n",
      "83 entities active in bucket 8 of 10\n87 entities active in bucket 9 of 10\n",
      "83 entities active in bucket 10 of 10\n",
      "../pythonminer/out/intellij-community/generated_data_6x_1Ksamples/run_05/vectorization_4_packs_1000_samples.csv\n27 entities active in bucket 1 of 10\n38 entities active in bucket 2 of 10\n47 entities active in bucket 3 of 10\n53 entities active in bucket 4 of 10\n63 entities active in bucket 5 of 10\n",
      "71 entities active in bucket 6 of 10\n74 entities active in bucket 7 of 10\n83 entities active in bucket 8 of 10\n",
      "87 entities active in bucket 9 of 10\n",
      "83 entities active in bucket 10 of 10\n",
      "../pythonminer/out/intellij-community/generated_data_6x_1Ksamples/run_06/vectorization_4_packs_1000_samples.csv\n27 entities active in bucket 1 of 10\n38 entities active in bucket 2 of 10\n47 entities active in bucket 3 of 10\n53 entities active in bucket 4 of 10\n63 entities active in bucket 5 of 10\n",
      "71 entities active in bucket 6 of 10\n74 entities active in bucket 7 of 10\n",
      "83 entities active in bucket 8 of 10\n87 entities active in bucket 9 of 10\n",
      "83 entities active in bucket 10 of 10\n"
     ],
     "output_type": "stream"
    }
   ],
   "source": [
    "n_runs = 6\n",
    "n_buckets = 10\n",
    "\n",
    "# [Each item is a dict: {(pair of entities) -> [distances, one per bucket]}]\n",
    "trends = []\n",
    "for i in range(n_runs):\n",
    "    trends.append(load_run_data(i+1))\n",
    "    \n",
    "def get_diff(list_with_nans):\n",
    "    diff = []\n",
    "    for i in range(1, len(list_with_nans)):\n",
    "        has_nans = list_with_nans[i-1] is None or list_with_nans[i] is None\n",
    "        diff.append(None if has_nans else list_with_nans[i] - list_with_nans[i-1])\n",
    "    return diff\n",
    "\n",
    "diff_trends = []\n",
    "for i in range(n_runs):\n",
    "    diff_trends.append({p: get_diff(trends[i][p]) for p in trends[i].keys()})\n",
    "    \n",
    "\n"
   ],
   "metadata": {
    "collapsed": false,
    "pycharm": {
     "name": "#%%\n",
     "is_executing": false
    }
   }
  },
  {
   "cell_type": "code",
   "execution_count": 29,
   "outputs": [],
   "source": [
    "\n",
    "def count_sign_match(diff_a, diff_b):\n",
    "    match_count = 0\n",
    "    mismatch_count = 0\n",
    "    for i in range(len(diff_a)):\n",
    "        if diff_a[i] is not None:\n",
    "            match = (diff_a[i] * diff_b[i]) > 0\n",
    "            if match:\n",
    "                match_count+=1 \n",
    "            else:\n",
    "                mismatch_count += 1\n",
    "    return {\"match\": match_count, \"mismatch\": mismatch_count}\n",
    "\n",
    "\n",
    "def compare_diff_trends(trend_a, trend_b):\n",
    "    match_count = 0\n",
    "    mismatch_count = 0\n",
    "    for pair in trend_a.keys():\n",
    "        match_counts = count_sign_match(trend_a[pair], trend_b[pair])\n",
    "        match_count+=match_counts[\"match\"]\n",
    "        mismatch_count+=match_counts[\"mismatch\"]\n",
    "    return {\"match\": match_count, \"mismatch\": mismatch_count}\n",
    "\n",
    "\n",
    "red = pickle.load(open(\"../pythonminer/out/intellij-community/generated_data_6x_1Ksamples/reversed_entity_dict.pkl\", 'rb'))\n",
    "\n",
    "def get_name(entity):\n",
    "    return red[entity]['names'][0]"
   ],
   "metadata": {
    "collapsed": false,
    "pycharm": {
     "name": "#%%\n",
     "is_executing": false
    }
   }
  },
  {
   "cell_type": "code",
   "execution_count": 30,
   "outputs": [],
   "source": [
    "def extract_trend_stats(pair, diff_trends):\n",
    "    na_count = diff_trends[0].count(None)\n",
    "    positive_counts = []\n",
    "    negative_counts = []\n",
    "    sums = []\n",
    "    for i in range(len(diff_trends[0])):\n",
    "        if (diff_trends[0][i]) is not None:\n",
    "            pos_count = 0\n",
    "            neg_count = 0\n",
    "            sum = 0\n",
    "            for trend_index in range(len(diff_trends)):\n",
    "                d = diff_trends[trend_index][i]\n",
    "                if d > 0:\n",
    "                    pos_count+=1\n",
    "                else: \n",
    "                    neg_count+=1\n",
    "                sum+=d\n",
    "            positive_counts.append(pos_count)\n",
    "            negative_counts.append(neg_count)\n",
    "            sums.append(sum)\n",
    "        else: \n",
    "            positive_counts.append(None)\n",
    "            negative_counts.append(None)\n",
    "            sums.append(None)\n",
    "    return {\n",
    "        'entities': pair,\n",
    "        'names': (get_name(pair[0]), get_name(pair[1])),\n",
    "        'na_count': na_count,\n",
    "        'negative_counts': negative_counts,\n",
    "        'positive_counts': positive_counts,\n",
    "        'sums': sums\n",
    "    }            \n",
    "            \n",
    "\n",
    "def get_diff_stats(diff_trends_per_run):\n",
    "    all_pairs = diff_trends_per_run[0].keys()\n",
    "    diff_stats = []\n",
    "    for p in all_pairs:\n",
    "        diff_trends_for_pair = [diff_trends_per_run[i][p] for i in range(len(diff_trends_per_run))]\n",
    "        stats_for_pair = extract_trend_stats(p, diff_trends_for_pair)\n",
    "        if stats_for_pair['na_count'] < n_buckets - 1:\n",
    "            diff_stats.append(stats_for_pair)\n",
    "    return diff_stats\n",
    "        "
   ],
   "metadata": {
    "collapsed": false,
    "pycharm": {
     "name": "#%%\n",
     "is_executing": false
    }
   }
  },
  {
   "cell_type": "code",
   "execution_count": 31,
   "outputs": [
    {
     "name": "stdout",
     "text": [
      "Most prominent relative distance changes between buckets 1 and 2, summed across 6 runs\nSascha Weinreuter(entity 66.0) and Anton.Makeev(241.0): -1.3043667025002124\nIlya Sergey(entity 88.0) and Anton.Makeev(241.0): -0.8315174777679042\nSascha Weinreuter(entity 66.0) and cdr(182.0): -0.8010693888987315\nSascha Weinreuter(entity 66.0) and Nikolay Chashnikov(262.0): -0.7876153008810901\nDmitry Krasilschikov(entity 239.0) and Anton.Makeev(241.0): -0.7720220049537126\nSascha Weinreuter(entity 66.0) and Bas Leijdekkers(378.0): -0.7647479867993368\nIlya Sergey(entity 88.0) and Bas Leijdekkers(378.0): -0.7180392284833962\nanna(entity 19.0) and Ilya Sergey(88.0): -0.7123809528900423\nSascha Weinreuter(entity 66.0) and peter.gromov(276.0): -0.6966448908488599\nSascha Weinreuter(entity 66.0) and animaru(403.0): -0.6443699427317698\nIlya Sergey(entity 88.0) and peter.gromov(276.0): -0.622071167811265\nIlya Sergey(entity 88.0) and Mike Aizatsky(503.0): -0.6181192518403197\nanna(entity 19.0) and Dmitry Krasilschikov(239.0): -0.6171024884750899\nSascha Weinreuter(entity 66.0) and Eugene Zhuravlev(103.0): -0.6170070003602359\nspLeaner(entity 26.0) and Anton.Makeev(241.0): -0.616645077418088\nanna(entity 19.0) and Sascha Weinreuter(66.0): -0.613369382578547\nSascha Weinreuter(entity 66.0) and Maxim.Mossienko(79.0): -0.5998930622343873\nSascha Weinreuter(entity 66.0) and shafirov(125.0): -0.5981835216062878\nDmitry Krasilschikov(entity 239.0) and Mike Aizatsky(503.0): -0.5907805209540613\nSascha Weinreuter(entity 66.0) and Gregory.Shrago(67.0): -0.52822301308709\nSascha Weinreuter(entity 66.0) and Dmitry Jemerov(192.0): -0.5136994258135289\nIlya Sergey(entity 88.0) and Dmitry Jemerov(192.0): -0.4858947145576661\nspLeaner(entity 26.0) and Bas Leijdekkers(378.0): -0.4704659192781827\nDmitry Krasilschikov(entity 239.0) and peter.gromov(276.0): -0.45706941765079856\nDmitry Jemerov(entity 192.0) and Dmitry Krasilschikov(239.0): -0.45321389030399317\nDmitry Jemerov(entity 192.0) and Anton.Makeev(241.0): -0.4199564487937405\nSascha Weinreuter(entity 66.0) and Mike Aizatsky(503.0): -0.41517407726670064\nIlya Sergey(entity 88.0) and shafirov(125.0): -0.40794020893582494\nDmitry Krasilschikov(entity 239.0) and Bas Leijdekkers(378.0): -0.3996861448178214\nMaxim.Mossienko(entity 79.0) and Ilya Sergey(88.0): -0.3971497332703242\nDmitry Krasilschikov(entity 239.0) and Nikolay Chashnikov(262.0): -0.35444134052964604\nspLeaner(entity 26.0) and Nikolay Chashnikov(262.0): -0.34302338276036526\nIlya Sergey(entity 88.0) and cdr(182.0): -0.33605974235380154\nIlya Sergey(entity 88.0) and Eugene Vigdorchik(496.0): -0.31750072516158967\nBas Leijdekkers(entity 378.0) and Mike Aizatsky(503.0): -0.31629792530727796\nspLeaner(entity 26.0) and cdr(182.0): -0.31189957114753486\nIlya Sergey(entity 88.0) and Nikolay Chashnikov(262.0): -0.2876407182086054\nDmitry Jemerov(entity 192.0) and Bas Leijdekkers(378.0): -0.28079758287997225\nEugene Zhuravlev(entity 103.0) and Anton.Makeev(241.0): -0.2694287640399312\nspLeaner(entity 26.0) and Dmitry Krasilschikov(239.0): -0.25904310205290637\nanna(entity 19.0) and Bas Leijdekkers(378.0): -0.25680035267385926\nMaxim.Mossienko(entity 79.0) and Dmitry Krasilschikov(239.0): -0.25636896674435183\nshafirov(entity 125.0) and Bas Leijdekkers(378.0): -0.250514733719602\nAnton.Makeev(entity 241.0) and Bas Leijdekkers(378.0): -0.23879146583070698\nSascha Weinreuter(entity 66.0) and Olesya Smirnova(508.0): -0.23696787197110436\nsergey.vasiliev(entity 148.0) and Dmitry Krasilschikov(239.0): -0.22920427195741855\nDmitry Jemerov(entity 192.0) and Nikolay Chashnikov(262.0): -0.21902759087085644\nspLeaner(entity 26.0) and animaru(403.0): -0.2085168868830206\ncdr(entity 182.0) and Dmitry Krasilschikov(239.0): -0.19929712669326072\nBas Leijdekkers(entity 378.0) and animaru(403.0): -0.18994861338916103\n\n\nMost prominent relative distance changes between buckets 2 and 3, summed across 6 runs\nSergey Evdokimov(entity 106.0) and Oleg Shpynov(255.0): -1.5460038835089782\nSergey Evdokimov(entity 106.0) and Maxim Medvedev(121.0): -1.5407877341720733\nConstantine Plotnikov(entity 18.0) and Sergey Evdokimov(106.0): -1.5338868986618885\nDennis Ushakov(entity 151.0) and Yann Cébron(274.0): -1.4977286519288708\nKirill.Safonov(entity 97.0) and Oleg Shpynov(255.0): -1.4827345657735447\nMaxim Medvedev(entity 121.0) and Yann Cébron(274.0): -1.4693917124448428\nsergey.vasiliev(entity 148.0) and Yann Cébron(274.0): -1.4250475203794999\nSergey Evdokimov(entity 106.0) and kirillk(184.0): -1.414766274942199\nSergey Evdokimov(entity 106.0) and Dmitry Cheryasov(423.0): -1.3792449291184816\nSergey Evdokimov(entity 106.0) and sergey.vasiliev(148.0): -1.3491816997523438\nSergey Evdokimov(entity 106.0) and Yann Cébron(274.0): -1.3376396674788404\nAlexander Doroshko(entity 35.0) and Oleg Shpynov(255.0): -1.329247133052363\nAlexander Doroshko(entity 35.0) and sergey.vasiliev(148.0): -1.3108628346014093\nKirill.Safonov(entity 97.0) and sergey.vasiliev(148.0): -1.2912061646057407\nOleg Shpynov(entity 255.0) and Yann Cébron(274.0): -1.258095117065337\nConstantine Plotnikov(entity 18.0) and Alexander Doroshko(35.0): -1.2361008167931278\nshafirov(entity 125.0) and Oleg Shpynov(255.0): -1.2347889835528232\nYann Cébron(entity 274.0) and Denis Zhdanov(289.0): -1.1684530194090164\nSergey Evdokimov(entity 106.0) and Denis Zhdanov(289.0): -1.1551464348059368\nSergey Evdokimov(entity 106.0) and Roman Chernyatchik(145.0): -1.1336025107983556\nAlexander Doroshko(entity 35.0) and kirillk(184.0): -1.1149156235080984\nAlexander Doroshko(entity 35.0) and Roman Chernyatchik(145.0): -1.1078363609705955\nRoman Chernyatchik(entity 145.0) and Yann Cébron(274.0): -1.05001865336892\nSergey Evdokimov(entity 106.0) and Konstantin Bulenkov(131.0): -1.0367967965021871\nKirill.Safonov(entity 97.0) and Dmitry Cheryasov(423.0): -1.0121127166128874\nAlexander Doroshko(entity 35.0) and Yann Cébron(274.0): -1.0052959118380924\nEugene.Kudelevsky(entity 101.0) and sergey.vasiliev(148.0): -0.9801449356635505\nOleg Shpynov(entity 255.0) and irengrig(265.0): -0.9732993793781939\nanna(entity 19.0) and Yann Cébron(274.0): -0.9684746431458231\nAlexander Doroshko(entity 35.0) and Dmitry Cheryasov(423.0): -0.9640326762852142\nEugene.Kudelevsky(entity 101.0) and Oleg Shpynov(255.0): -0.9621619439155186\nKonstantin Bulenkov(entity 131.0) and Yann Cébron(274.0): -0.9477823859555554\nAnton.Makeev(entity 241.0) and Oleg Shpynov(255.0): -0.9448729095412327\nshafirov(entity 125.0) and sergey.vasiliev(148.0): -0.9299915026536825\nshafirov(entity 125.0) and Yann Cébron(274.0): -0.9166265553788806\nConstantine Plotnikov(entity 18.0) and Kirill.Safonov(97.0): -0.9152820756298552\nspLeaner(entity 26.0) and Oleg Shpynov(255.0): -0.9135821056595538\nKirill.Safonov(entity 97.0) and Yann Cébron(274.0): -0.8957066913206907\nSergey Evdokimov(entity 106.0) and Dennis Ushakov(151.0): -0.8953202358943715\nRustam.Vishnyakov(entity 16.0) and Eugene.Kudelevsky(101.0): -0.8680469364666702\nOleg Shpynov(entity 255.0) and animaru(403.0): -0.8630369022892486\nkirillk(entity 184.0) and Yann Cébron(274.0): -0.8493272785712215\nRustam.Vishnyakov(entity 16.0) and Yann Cébron(274.0): -0.8161787540759088\nKirill.Safonov(entity 97.0) and Roman Chernyatchik(145.0): -0.8045189306396894\nAnton.Makeev(entity 241.0) and Bas Leijdekkers(378.0): -0.8031840132840787\nDmitry Jemerov(entity 192.0) and Oleg Shpynov(255.0): -0.7971787385851208\nYann Cébron(entity 274.0) and peter.gromov(276.0): -0.7966155743699898\nGregory.Shrago(entity 67.0) and Oleg Shpynov(255.0): -0.7922650096638494\nKirill.Safonov(entity 97.0) and Dennis Ushakov(151.0): -0.7885200610018002\nAlexander Doroshko(entity 35.0) and Konstantin Bulenkov(131.0): -0.7838653153174417\n\n\nMost prominent relative distance changes between buckets 3 and 4, summed across 6 runs\nEvgeny Zakrevsky(entity 316.0) and Michael Golubev(518.0): -4.805664056977202\nRoman Chernyatchik(entity 145.0) and Michael Golubev(518.0): -4.587292119613279\nAlexander Kirillin(entity 55.0) and Michael Golubev(518.0): -4.305847033968727\nNadya.Zabrodina(entity 323.0) and Michael Golubev(518.0): -4.2505586489935325\nShaverdova Elena(entity 130.0) and Michael Golubev(518.0): -4.198525291879451\nAndrey Vokin(entity 142.0) and Michael Golubev(518.0): -3.903750845645161\nandrey zaytsev(entity 463.0) and Michael Golubev(518.0): -3.7369009623755223\nAndrey Vlasovskikh(entity 95.0) and Michael Golubev(518.0): -3.598250834412165\nSergey Evdokimov(entity 106.0) and Michael Golubev(518.0): -3.4776051573980955\nAlexander Doroshko(entity 35.0) and Michael Golubev(518.0): -3.373095828625448\nYann Cébron(entity 274.0) and Michael Golubev(518.0): -3.3691522896179467\nDmitry Trofimov(entity 505.0) and Michael Golubev(518.0): -3.222769221719342\nkirillk(entity 184.0) and Michael Golubev(518.0): -3.0853018278061546\nSergey Simonchik(entity 233.0) and Michael Golubev(518.0): -3.0335165512844684\nRoman Shevchenko(entity 93.0) and Michael Golubev(518.0): -2.877512850605159\nDenis Zhdanov(entity 289.0) and Michael Golubev(518.0): -2.867713093629917\nKirill.Safonov(entity 97.0) and Michael Golubev(518.0): -2.854458899353055\nVladimir Krivosheev(entity 303.0) and Michael Golubev(518.0): -2.8484708097988443\nRoman Shevchenko(entity 93.0) and Shaverdova Elena(130.0): -2.8432026316172596\nRoman Shevchenko(entity 93.0) and Yann Cébron(274.0): -2.8213589800650327\nSascha Weinreuter(entity 66.0) and Roman Shevchenko(93.0): -2.7187537196881126\nRoman Shevchenko(entity 93.0) and Eugene Zhuravlev(103.0): -2.6979396908513777\nKonstantin Bulenkov(entity 131.0) and Michael Golubev(518.0): -2.6596486795165752\nRoman Shevchenko(entity 93.0) and Andrey Vokin(142.0): -2.6392715660914536\nRoman Shevchenko(entity 93.0) and Roman Chernyatchik(145.0): -2.6221142473671954\nGregory.Shrago(entity 67.0) and Michael Golubev(518.0): -2.57203724003921\nOleg Shpynov(entity 255.0) and Michael Golubev(518.0): -2.538139334113231\nRoman Shevchenko(entity 93.0) and shafirov(125.0): -2.535590696438046\nDmitri Boulytchev(entity 2.0) and Michael Golubev(518.0): -2.482192184432938\nMaxim Medvedev(entity 121.0) and Michael Golubev(518.0): -2.409806490627339\nDmitry Jemerov(entity 192.0) and Michael Golubev(518.0): -2.387619478749129\nRoman Shevchenko(entity 93.0) and Nikolay Chashnikov(262.0): -2.3208773196670753\nshafirov(entity 125.0) and Michael Golubev(518.0): -2.296778219339215\nsergey.vasiliev(entity 148.0) and Michael Golubev(518.0): -2.2489822045243804\nRoman Shevchenko(entity 93.0) and Evgeny Zakrevsky(316.0): -2.1629974446698084\nDennis Ushakov(entity 151.0) and Michael Golubev(518.0): -2.137198791429869\nRoman Shevchenko(entity 93.0) and peter.gromov(276.0): -2.132258712390397\nMaxim.Mossienko(entity 79.0) and Evgeny Zakrevsky(316.0): -2.0954248235676136\nMaxim.Mossienko(entity 79.0) and Roman Shevchenko(93.0): -2.0781318676587586\nanna(entity 19.0) and Michael Golubev(518.0): -2.071651074053155\nEkaterina.Tuzova(entity 213.0) and Michael Golubev(518.0): -2.0258143823059886\nRoman Shevchenko(entity 93.0) and Vladimir Krivosheev(303.0): -2.021281125831952\nRoman Shevchenko(entity 93.0) and Bas Leijdekkers(378.0): -1.9741937653880899\nMaxim.Mossienko(entity 79.0) and Roman Chernyatchik(145.0): -1.962662664422277\nRustam.Vishnyakov(entity 16.0) and Evgeny Zakrevsky(316.0): -1.9578972612436751\nRoman Shevchenko(entity 93.0) and Denis Zhdanov(289.0): -1.9321438332422505\nRoman Shevchenko(entity 93.0) and Nadya.Zabrodina(323.0): -1.8822013668925806\nEvgeny Zakrevsky(entity 316.0) and Bas Leijdekkers(378.0): -1.8747680146252814\nspLeaner(entity 26.0) and Michael Golubev(518.0): -1.857063989202725\nDmitri Boulytchev(entity 2.0) and Roman Shevchenko(93.0): -1.8018916388617874\n\n\nMost prominent relative distance changes between buckets 4 and 5, summed across 6 runs\nSascha Weinreuter(entity 66.0) and Andrey Vlasovskikh(95.0): -4.555349527056732\nSascha Weinreuter(entity 66.0) and Ekaterina.Tuzova(213.0): -4.2959447984767705\nSascha Weinreuter(entity 66.0) and Sergey Simonchik(233.0): -4.199803719828927\nSascha Weinreuter(entity 66.0) and Sergey Evdokimov(106.0): -3.8197956732337683\nSascha Weinreuter(entity 66.0) and Alexander Lobas(225.0): -3.6648723102125924\nSascha Weinreuter(entity 66.0) and Dennis Ushakov(151.0): -3.534054282309783\nVassiliy Kudryashov(entity 22.0) and Sascha Weinreuter(66.0): -3.4773064548339168\nSascha Weinreuter(entity 66.0) and Dmitry Trofimov(505.0): -3.289356284749764\nSascha Weinreuter(entity 66.0) and sergey.vasiliev(148.0): -3.27655676019614\nSascha Weinreuter(entity 66.0) and Kirill.Safonov(97.0): -3.2002465916677894\nAlexander Doroshko(entity 35.0) and Sascha Weinreuter(66.0): -3.0833070779090033\nSascha Weinreuter(entity 66.0) and Gregory.Shrago(67.0): -3.0455312645006236\nAlexander Kirillin(entity 55.0) and Sascha Weinreuter(66.0): -3.0272875603994867\nSascha Weinreuter(entity 66.0) and Svetlana.Zemlyanskaya(467.0): -3.0130551233277085\nSascha Weinreuter(entity 66.0) and Konstantin Bulenkov(131.0): -2.8508860734332293\nRustam.Vishnyakov(entity 16.0) and Sascha Weinreuter(66.0): -2.8441717010679235\nSascha Weinreuter(entity 66.0) and Maxim Medvedev(121.0): -2.797233518798782\nanna(entity 19.0) and Sascha Weinreuter(66.0): -2.751230264503051\nSascha Weinreuter(entity 66.0) and andrey zaytsev(463.0): -2.7434965940524005\nSascha Weinreuter(entity 66.0) and Anton.Makeev(241.0): -2.7190567693441277\nRoman Shevchenko(entity 93.0) and Ekaterina.Tuzova(213.0): -2.632929897042627\nAndrey Vlasovskikh(entity 95.0) and Shaverdova Elena(130.0): -2.6232865192882815\nSascha Weinreuter(entity 66.0) and animaru(403.0): -2.531476931912755\nAlexander Zolotov(entity 43.0) and Sascha Weinreuter(66.0): -2.4044452752613994\nRoman Shevchenko(entity 93.0) and Dennis Ushakov(151.0): -2.2964664377885704\nRoman Shevchenko(entity 93.0) and Alexander Lobas(225.0): -2.254732132608237\nsergey.ignatov(entity 36.0) and Sascha Weinreuter(66.0): -2.2384367855788554\nSascha Weinreuter(entity 66.0) and Eugene.Kudelevsky(101.0): -2.215933481257511\nSascha Weinreuter(entity 66.0) and Andrey Vokin(142.0): -2.166330638766726\nAlexander Doroshko(entity 35.0) and Roman Shevchenko(93.0): -2.132119457994512\nSascha Weinreuter(entity 66.0) and Nadya.Zabrodina(323.0): -2.114901605996144\nRoman Shevchenko(entity 93.0) and Andrey Vlasovskikh(95.0): -2.099022704980534\nShaverdova Elena(entity 130.0) and Ekaterina.Tuzova(213.0): -2.08994955477831\nRoman Shevchenko(entity 93.0) and Sergey Simonchik(233.0): -2.0754212722725196\nSascha Weinreuter(entity 66.0) and Yann Cébron(274.0): -2.0622560690597664\ncdr(entity 182.0) and andrey zaytsev(463.0): -2.047691321871191\nAlexander Zolotov(entity 43.0) and Roman Shevchenko(93.0): -2.0155032982253376\nRoman Shevchenko(entity 93.0) and andrey zaytsev(463.0): -1.9948302338568549\nSascha Weinreuter(entity 66.0) and peter.gromov(276.0): -1.959596289882874\nShaverdova Elena(entity 130.0) and Sergey Simonchik(233.0): -1.9588995986251714\nGregory.Shrago(entity 67.0) and Roman Shevchenko(93.0): -1.9232590938761565\nSascha Weinreuter(entity 66.0) and Kirill.Likhodedov(380.0): -1.9113832572091485\nSascha Weinreuter(entity 66.0) and Maxim.Mossienko(79.0): -1.9107227586816222\nSascha Weinreuter(entity 66.0) and irengrig(265.0): -1.9009084367633768\nRoman Shevchenko(entity 93.0) and Dmitry Trofimov(505.0): -1.8811553283267926\nSascha Weinreuter(entity 66.0) and Nikolay Chashnikov(262.0): -1.880754131465637\ncdr(entity 182.0) and Dmitry Jemerov(192.0): -1.8585474604063434\nSascha Weinreuter(entity 66.0) and Erochin Stanislav(70.0): -1.8531169247987165\nRoman Shevchenko(entity 93.0) and Anton.Makeev(241.0): -1.8328989826642101\nsergey.ignatov(entity 36.0) and Roman Shevchenko(93.0): -1.8037749084071806\n\n\nMost prominent relative distance changes between buckets 5 and 6, summed across 6 runs\nShaverdova Elena(entity 130.0) and Dmitry Jemerov(192.0): -6.116582507008288\nVyacheslav Karpukhin(entity 179.0) and Dmitry Jemerov(192.0): -5.998426482931276\nsergey.vasiliev(entity 148.0) and Dmitry Jemerov(192.0): -5.7692751478946835\nAndrey Vokin(entity 142.0) and Dmitry Jemerov(192.0): -5.533174558609085\nDmitry Jemerov(entity 192.0) and Alexander Marchuk(446.0): -5.329413117119776\nAndrey Vlasovskikh(entity 95.0) and Dmitry Jemerov(192.0): -5.003977866749931\nDmitry Jemerov(entity 192.0) and Sergey Simonchik(233.0): -4.987549712646328\nAlexey Utkin(entity 138.0) and Dmitry Jemerov(192.0): -4.84860020703133\nIlya.Kazakevich(entity 156.0) and Dmitry Jemerov(192.0): -4.823287957670589\nDmitry Jemerov(entity 192.0) and Denis Fokin(340.0): -4.791680248225756\nDmitry Jemerov(entity 192.0) and Svetlana.Zemlyanskaya(467.0): -4.7671300760952535\nAlexander Kirillin(entity 55.0) and Dmitry Jemerov(192.0): -4.342402241886868\nYaroslav Lepenkin(entity 40.0) and Dmitry Jemerov(192.0): -4.3246695163161535\nEugene Zhuravlev(entity 103.0) and Shaverdova Elena(130.0): -4.248182177089208\nMaxim Medvedev(entity 121.0) and Dmitry Jemerov(192.0): -4.1848379219183\nDmitry Jemerov(entity 192.0) and Dmitry Trofimov(505.0): -4.125806366013463\nDmitry Jemerov(entity 192.0) and Vladislav.Soroka(344.0): -4.119573656097394\nEugene Zhuravlev(entity 103.0) and Vyacheslav Karpukhin(179.0): -4.112796174494321\nDmitry Jemerov(entity 192.0) and Yann Cébron(274.0): -4.055834030223648\nDmitry Jemerov(entity 192.0) and Alexander Lobas(225.0): -3.985172371838029\nDmitry Jemerov(entity 192.0) and Ekaterina.Tuzova(213.0): -3.912645519464906\nVassiliy Kudryashov(entity 22.0) and Dmitry Jemerov(192.0): -3.9054175912511604\nDennis Ushakov(entity 151.0) and Dmitry Jemerov(192.0): -3.811088641913412\nRustam.Vishnyakov(entity 16.0) and Dmitry Jemerov(192.0): -3.7636938058516414\nMikhail Golubev(entity 1.0) and Andrey Vlasovskikh(95.0): -3.7482810047411586\nEugene Zhuravlev(entity 103.0) and Alexander Marchuk(446.0): -3.6372717740222478\nDmitry Jemerov(entity 192.0) and irengrig(265.0): -3.598331839465324\nKonstantin Bulenkov(entity 131.0) and Dmitry Jemerov(192.0): -3.5908923444429934\nDmitry Jemerov(entity 192.0) and med_vector(374.0): -3.590872829874164\nanna(entity 19.0) and Dmitry Jemerov(192.0): -3.585044819947011\nEugene.Kudelevsky(entity 101.0) and Dmitry Jemerov(192.0): -3.576815605588852\nDmitry Jemerov(entity 192.0) and Michael Golubev(518.0): -3.5511627169523634\nDmitry Jemerov(entity 192.0) and Andrey Starovoyt(435.0): -3.489954324186075\nDmitry Jemerov(entity 192.0) and Ilya Klyuchnikov(290.0): -3.393375646784105\nDmitry Jemerov(entity 192.0) and Dmitry Batrak(458.0): -3.359509569575938\nEugene Zhuravlev(entity 103.0) and sergey.vasiliev(148.0): -3.2521474642149393\nEgor Ushakov(entity 91.0) and Dmitry Jemerov(192.0): -3.2311255528959584\nShaverdova Elena(entity 130.0) and cdr(182.0): -3.184459967140156\nDmitry Jemerov(entity 192.0) and Kirill.Likhodedov(380.0): -3.159662772748865\nGregory.Shrago(entity 67.0) and Dmitry Jemerov(192.0): -3.130951661868693\nEugene Zhuravlev(entity 103.0) and Andrey Vokin(142.0): -3.0675961171795683\nDmitry Jemerov(entity 192.0) and Aleksey Pivovarov(341.0): -3.0497734714419757\nVyacheslav Karpukhin(entity 179.0) and cdr(182.0): -3.023026446563501\nEugene Zhuravlev(entity 103.0) and Ilya.Kazakevich(156.0): -2.971502172077568\ncdr(entity 182.0) and Alexander Marchuk(446.0): -2.928885025639891\nMikhail Golubev(entity 1.0) and Svetlana.Zemlyanskaya(467.0): -2.917959755121953\nDmitry Jemerov(entity 192.0) and Anton.Makeev(241.0): -2.873624465962813\nAndrey Vlasovskikh(entity 95.0) and Eugene Zhuravlev(103.0): -2.856909944554896\nEugene Zhuravlev(entity 103.0) and Alexey Utkin(138.0): -2.850706164401891\nMaxim.Mossienko(entity 79.0) and Dmitry Jemerov(192.0): -2.837373340942594\n\n\nMost prominent relative distance changes between buckets 6 and 7, summed across 6 runs\npasynkov(entity 116.0) and Svetlana.Zemlyanskaya(467.0): -2.2821344017293352\nRoman Shevchenko(entity 93.0) and Svetlana.Zemlyanskaya(467.0): -2.006089069473848\nAlexander Koshevoy(entity 24.0) and pasynkov(116.0): -1.6516466924617603\nEugene Zhuravlev(entity 103.0) and Svetlana.Zemlyanskaya(467.0): -1.5309629005433092\nAnton.Makeev(entity 241.0) and Svetlana.Zemlyanskaya(467.0): -1.4212791798237188\npasynkov(entity 116.0) and Konstantin Bulenkov(131.0): -1.4130638210972526\nRustam.Vishnyakov(entity 16.0) and Svetlana.Zemlyanskaya(467.0): -1.3536101111093946\nMaxim Medvedev(entity 121.0) and Svetlana.Zemlyanskaya(467.0): -1.343320902566301\nDenis Fokin(entity 340.0) and Svetlana.Zemlyanskaya(467.0): -1.2812547182524492\nJulia Beliaeva(entity 74.0) and pasynkov(116.0): -1.2648735158958306\npasynkov(entity 116.0) and Vladislav.Soroka(344.0): -1.218658999079317\nJulia Beliaeva(entity 74.0) and Maxim Medvedev(121.0): -1.2089984319358953\nKirill.Likhodedov(entity 380.0) and Svetlana.Zemlyanskaya(467.0): -1.2075782322451225\npasynkov(entity 116.0) and Anton Tarasov(450.0): -1.2053480005233705\nYaroslav Lepenkin(entity 40.0) and Roman Shevchenko(93.0): -1.1836682069895046\nMaxim Medvedev(entity 121.0) and Konstantin Bulenkov(131.0): -1.1775138820114153\nAndrey Vlasovskikh(entity 95.0) and pasynkov(116.0): -1.1754996396116173\npasynkov(entity 116.0) and Sergey Simonchik(233.0): -1.1740922682364279\nMaxim Medvedev(entity 121.0) and Nadya.Zabrodina(323.0): -1.1582561026141827\nEgor Ushakov(entity 91.0) and Svetlana.Zemlyanskaya(467.0): -1.1480206852224066\nJulia Beliaeva(entity 74.0) and Roman Shevchenko(93.0): -1.1091806669692486\nSvetlana.Zemlyanskaya(entity 467.0) and Michael Golubev(518.0): -1.096832782689372\nRoman Shevchenko(entity 93.0) and Nadya.Zabrodina(323.0): -1.092197716233806\nDmitry Jemerov(entity 192.0) and Svetlana.Zemlyanskaya(467.0): -1.0919941148554524\nMikhail Golubev(entity 1.0) and pasynkov(116.0): -1.0894639842304565\npasynkov(entity 116.0) and Semyon Proshev(257.0): -1.0802374602712872\nAlexander Zolotov(entity 43.0) and Svetlana.Zemlyanskaya(467.0): -1.0791803368431663\nAlexander Doroshko(entity 35.0) and pasynkov(116.0): -1.0759548826488157\nRoman Shevchenko(entity 93.0) and irengrig(265.0): -1.069497326488382\nJulia Beliaeva(entity 74.0) and Anton.Makeev(241.0): -1.0541927747789024\nAlexander Lobas(entity 225.0) and Svetlana.Zemlyanskaya(467.0): -1.0295127456424156\nNadya.Zabrodina(entity 323.0) and Svetlana.Zemlyanskaya(467.0): -1.0271855336488545\nBas Leijdekkers(entity 378.0) and Svetlana.Zemlyanskaya(467.0): -1.019075144530003\nVyacheslav Karpukhin(entity 179.0) and Svetlana.Zemlyanskaya(467.0): -1.0159926196102935\nRoman Shevchenko(entity 93.0) and Andrey Vlasovskikh(95.0): -1.0090444633172577\nVassiliy Kudryashov(entity 22.0) and pasynkov(116.0): -1.0024592919151936\ncdr(entity 182.0) and Svetlana.Zemlyanskaya(467.0): -1.0007611112885908\nRoman Shevchenko(entity 93.0) and Vladislav.Soroka(344.0): -0.9974620702493269\nRoman Shevchenko(entity 93.0) and Konstantin Bulenkov(131.0): -0.9900490476234742\nVladimir Krivosheev(entity 303.0) and Svetlana.Zemlyanskaya(467.0): -0.9840766272800935\nAlexander Koshevoy(entity 24.0) and Roman Shevchenko(93.0): -0.9786009157421287\nShaverdova Elena(entity 130.0) and Svetlana.Zemlyanskaya(467.0): -0.9748153891424285\nanimaru(entity 403.0) and Svetlana.Zemlyanskaya(467.0): -0.9683378287842787\nRoman Shevchenko(entity 93.0) and Sergey Simonchik(233.0): -0.9564730169682898\nRoman Shevchenko(entity 93.0) and Pavel Dolgov(359.0): -0.9557680326751642\nYann Cébron(entity 274.0) and Svetlana.Zemlyanskaya(467.0): -0.9488125705634319\nanna(entity 19.0) and Kirill.Likhodedov(380.0): -0.9478759798477843\npeter.gromov(entity 276.0) and Svetlana.Zemlyanskaya(467.0): -0.9431493775146912\nSergey Malenkov(entity 418.0) and Svetlana.Zemlyanskaya(467.0): -0.8757856258280609\nMaxim Medvedev(entity 121.0) and Sergey Simonchik(233.0): -0.8740349966890629\n\n\nMost prominent relative distance changes between buckets 7 and 8, summed across 6 runs\nDmitry Zhuravlev(entity 90.0) and Elizaveta Shashkova(441.0): -4.376407631445466\nDmitry Zhuravlev(entity 90.0) and Semyon Proshev(257.0): -3.8678472202053653\nDmitry Zhuravlev(entity 90.0) and Andrey Vlasovskikh(95.0): -3.7480878108228275\nDmitry Zhuravlev(entity 90.0) and Ilya.Kazakevich(156.0): -3.5196106019968236\nDmitry Zhuravlev(entity 90.0) and Ekaterina.Tuzova(213.0): -3.379112958417992\nDmitry Zhuravlev(entity 90.0) and Dmitry Trofimov(505.0): -3.316185611669903\nDmitry Zhuravlev(entity 90.0) and Denis Fokin(340.0): -3.267186790568239\nanna(entity 19.0) and Alexander Doroshko(35.0): -3.245274383989384\nDmitry Zhuravlev(entity 90.0) and Svetlana.Zemlyanskaya(467.0): -3.2297278662200375\nValentin Fondaratov(entity 4.0) and Dmitry Zhuravlev(90.0): -3.050838579612123\nDmitry Zhuravlev(entity 90.0) and Valentina Kiryushkina(253.0): -3.0057694562045354\nDmitry Zhuravlev(entity 90.0) and Vitaliy.Bibaev(243.0): -2.9916899052031134\nDmitry Zhuravlev(entity 90.0) and Sergey Simonchik(233.0): -2.982120952674616\nAlexander Koshevoy(entity 24.0) and Dmitry Zhuravlev(90.0): -2.971419545757412\nVassiliy Kudryashov(entity 22.0) and Dmitry Zhuravlev(90.0): -2.880357773056852\nDmitry Zhuravlev(entity 90.0) and Kirill Kirichenko(422.0): -2.8319131972500955\nDmitry Zhuravlev(entity 90.0) and Alexander Lobas(225.0): -2.7967680555196863\nLeonid Bushuev(entity 191.0) and Nicolay Mitropolsky(287.0): -2.7955101430200484\nDmitry Zhuravlev(entity 90.0) and Vladislav.Soroka(344.0): -2.781332589638206\nanna(entity 19.0) and Ekaterina.Tuzova(213.0): -2.758044532998166\nDmitry Zhuravlev(entity 90.0) and Shaverdova Elena(130.0): -2.6795639324625222\nDmitry Zhuravlev(entity 90.0) and Vyacheslav Karpukhin(179.0): -2.676834385082505\nDmitry Zhuravlev(entity 90.0) and Dmitry Krasilschikov(239.0): -2.6703472739421805\nanna(entity 19.0) and Denis Fokin(340.0): -2.567090799426589\nDmitry Zhuravlev(entity 90.0) and Sergey Malenkov(418.0): -2.5578756958215156\nAlexander Doroshko(entity 35.0) and Dmitry Zhuravlev(90.0): -2.5561544209575846\nDmitry Zhuravlev(entity 90.0) and Konstantin Bulenkov(131.0): -2.553964211152689\nalexey.afanasiev(entity 76.0) and Dmitry Zhuravlev(90.0): -2.5529172689904494\nDmitry Zhuravlev(entity 90.0) and Alexey Utkin(138.0): -2.5518263514182857\nanna(entity 19.0) and Semyon Proshev(257.0): -2.5139391135578064\nDmitry Zhuravlev(entity 90.0) and Leonid Bushuev(191.0): -2.511439262990428\nSemyon Proshev(entity 257.0) and Nikolay Chashnikov(262.0): -2.482598608531531\nDmitry Zhuravlev(entity 90.0) and Andrey Starovoyt(435.0): -2.4300822820912744\nEkaterina.Tuzova(entity 213.0) and Nikolay Chashnikov(262.0): -2.399660325807088\nLeonid Bushuev(entity 191.0) and fitermay(405.0): -2.396641812940061\nDmitry Zhuravlev(entity 90.0) and Vladimir Plyashkun(466.0): -2.3924156916825625\nDmitry Zhuravlev(entity 90.0) and irengrig(265.0): -2.3822113174276884\nanna(entity 19.0) and Vitaliy.Bibaev(243.0): -2.3655690485905576\nAlexander Doroshko(entity 35.0) and Gregory.Shrago(67.0): -2.3534160781483973\nDmitry Zhuravlev(entity 90.0) and Konstantin Aleev(319.0): -2.343866030512854\nLeonid Bushuev(entity 191.0) and Ekaterina.Tuzova(213.0): -2.2978749361616684\nMikhail Golubev(entity 1.0) and Dmitry Zhuravlev(90.0): -2.2843910014843933\nalexey.afanasiev(entity 76.0) and Leonid Bushuev(191.0): -2.270758755689881\nAlexander Doroshko(entity 35.0) and Kirill.Likhodedov(380.0): -2.261980826213359\nDmitry Zhuravlev(entity 90.0) and sergey.vasiliev(148.0): -2.2603624799725357\nGregory.Shrago(entity 67.0) and Ekaterina.Tuzova(213.0): -2.245573178705523\nRustam.Vishnyakov(entity 16.0) and Dmitry Zhuravlev(90.0): -2.240708583610966\nGregory.Shrago(entity 67.0) and Semyon Proshev(257.0): -2.2259864232657645\nDmitry Zhuravlev(entity 90.0) and Dmitry Jemerov(192.0): -2.209976202798934\nAlexander Doroshko(entity 35.0) and Nikolay Chashnikov(262.0): -2.202834159536543\n\n\nMost prominent relative distance changes between buckets 8 and 9, summed across 6 runs\nLiana.Bakradze(entity 48.0) and Svetlana.Zemlyanskaya(467.0): -7.392514400386338\nLiana.Bakradze(entity 48.0) and Alexey Utkin(138.0): -7.008636156189679\nLiana.Bakradze(entity 48.0) and Mikhail Sokolov(428.0): -6.896614994842034\nMikhail Golubev(entity 1.0) and Liana.Bakradze(48.0): -6.870225333143764\nEldar Abusalimov(entity 100.0) and Svetlana.Zemlyanskaya(467.0): -6.713561163286217\nLiana.Bakradze(entity 48.0) and Andrey Vokin(142.0): -6.5553466737030694\nLiana.Bakradze(entity 48.0) and Artem Bochkarev(187.0): -6.528384254519215\nEldar Abusalimov(entity 100.0) and Mikhail Sokolov(428.0): -6.504741127810175\nLiana.Bakradze(entity 48.0) and Elizaveta Shashkova(441.0): -6.476361429147847\nLiana.Bakradze(entity 48.0) and Michael Golubev(518.0): -6.264102838628973\nEldar Abusalimov(entity 100.0) and Artem Bochkarev(187.0): -6.220923233352329\nEldar Abusalimov(entity 100.0) and Alexey Utkin(138.0): -6.119930123892454\nLiana.Bakradze(entity 48.0) and Semyon Proshev(257.0): -6.020249470892045\nMikhail Golubev(entity 1.0) and Eldar Abusalimov(100.0): -5.9943430514100395\nLiana.Bakradze(entity 48.0) and Sergey Simonchik(233.0): -5.986892351690967\nEldar Abusalimov(entity 100.0) and Andrey Vokin(142.0): -5.9092976221690385\nLiana.Bakradze(entity 48.0) and Kirill Kirichenko(422.0): -5.851407685694909\nLiana.Bakradze(entity 48.0) and Nikita Skvortsov(78.0): -5.845581831835704\nEldar Abusalimov(entity 100.0) and Elizaveta Shashkova(441.0): -5.824364040817301\nLiana.Bakradze(entity 48.0) and Vladislav.Soroka(344.0): -5.6765588070422845\nLiana.Bakradze(entity 48.0) and Konstantin Bulenkov(131.0): -5.651262959675508\nLiana.Bakradze(entity 48.0) and Leonid Bushuev(191.0): -5.649159850983307\nEldar Abusalimov(entity 100.0) and Semyon Proshev(257.0): -5.610448781370504\nLiana.Bakradze(entity 48.0) and Anton Lobov(483.0): -5.583371248541707\nLiana.Bakradze(entity 48.0) and Anton Tarasov(450.0): -5.443938821017365\nEldar Abusalimov(entity 100.0) and Kirill Kirichenko(422.0): -5.425532732886259\nLiana.Bakradze(entity 48.0) and Konstantin Aleev(319.0): -5.386903144986115\nAlexander Zolotov(entity 43.0) and Liana.Bakradze(48.0): -5.337069183869929\nEldar Abusalimov(entity 100.0) and Sergey Simonchik(233.0): -5.3358317019216885\nLiana.Bakradze(entity 48.0) and Nadya.Zabrodina(323.0): -5.279186764728826\nValentin Fondaratov(entity 4.0) and Liana.Bakradze(48.0): -5.221421633018143\nLiana.Bakradze(entity 48.0) and Vitaliy.Bibaev(243.0): -5.209908124355843\nLiana.Bakradze(entity 48.0) and Shaverdova Elena(130.0): -5.204107840813909\nVassiliy Kudryashov(entity 22.0) and Liana.Bakradze(48.0): -5.198097145192814\nMikhail Golubev(entity 1.0) and Vladimir Krivosheev(303.0): -5.18756002882994\nLiana.Bakradze(entity 48.0) and alexey.afanasiev(76.0): -5.153209952926515\nLiana.Bakradze(entity 48.0) and Yaroslav Pankratyev(196.0): -5.124773218400566\nEldar Abusalimov(entity 100.0) and Leonid Bushuev(191.0): -5.097706641918712\nLiana.Bakradze(entity 48.0) and Sergey Malenkov(418.0): -5.073613400818452\nEldar Abusalimov(entity 100.0) and Anton Tarasov(450.0): -5.045200030066217\nEldar Abusalimov(entity 100.0) and Michael Golubev(518.0): -5.0305627743813845\nLiana.Bakradze(entity 48.0) and Nicolay Mitropolsky(287.0): -5.010520514528003\nNikita Skvortsov(entity 78.0) and Eldar Abusalimov(100.0): -4.998136233922303\nLiana.Bakradze(entity 48.0) and Vyacheslav Karpukhin(179.0): -4.964099226384601\nEldar Abusalimov(entity 100.0) and Konstantin Bulenkov(131.0): -4.9486940248631885\nLiana.Bakradze(entity 48.0) and Andrey Vlasovskikh(95.0): -4.9034369975735235\nEldar Abusalimov(entity 100.0) and Anton Lobov(483.0): -4.814418567670378\nEldar Abusalimov(entity 100.0) and Vladislav.Soroka(344.0): -4.778849397938915\nLiana.Bakradze(entity 48.0) and Dennis Ushakov(151.0): -4.633320157417988\nLeonid Bushuev(entity 191.0) and Vladimir Krivosheev(303.0): -4.616314392737969\n\n\nMost prominent relative distance changes between buckets 9 and 10, summed across 6 runs\nVitaliy.Bibaev(entity 243.0) and Aleksey Rostovskiy(382.0): -7.2583389062609935\nAlexander Koshevoy(entity 24.0) and Mikhail Sokolov(428.0): -7.0527900899652005\nAlexander Koshevoy(entity 24.0) and Elizaveta Shashkova(441.0): -6.9541219576210125\nAlexander Koshevoy(entity 24.0) and Nikita Skvortsov(78.0): -6.781518103656612\nAlexander Koshevoy(entity 24.0) and Artem Bochkarev(187.0): -6.723758893440101\nAleksey Rostovskiy(entity 382.0) and Mikhail Sokolov(428.0): -6.708325084475699\nEldar Abusalimov(entity 100.0) and Aleksey Rostovskiy(382.0): -6.667199645306308\nSergei Vorobyov(entity 71.0) and Aleksey Rostovskiy(382.0): -6.523547863774143\nAlexander Koshevoy(entity 24.0) and Alexey Utkin(138.0): -6.442333723754565\nAlexander Koshevoy(entity 24.0) and Svetlana.Zemlyanskaya(467.0): -6.303422047053599\nAlexander Koshevoy(entity 24.0) and Michael Golubev(518.0): -6.301469939521941\nDenis Fokin(entity 340.0) and Aleksey Rostovskiy(382.0): -6.2968463342463386\nNikolay Chashnikov(entity 262.0) and Mikhail Sokolov(428.0): -6.26462519435449\nAlexander Koshevoy(entity 24.0) and Sergey Simonchik(233.0): -6.230955747533748\nAlexander Koshevoy(entity 24.0) and Vitaliy.Bibaev(243.0): -6.2214841453648155\nAleksey Rostovskiy(entity 382.0) and Svetlana.Zemlyanskaya(467.0): -6.203618030296647\nAlexander Koshevoy(entity 24.0) and Semyon Proshev(257.0): -6.131710471032802\nArtem Bochkarev(entity 187.0) and Aleksey Rostovskiy(382.0): -6.085528111481401\nAlexander Koshevoy(entity 24.0) and Sergei Vorobyov(71.0): -6.00460360630795\nAlexander Koshevoy(entity 24.0) and Denis Fokin(340.0): -5.979657400856795\nAleksey Rostovskiy(entity 382.0) and Michael Golubev(518.0): -5.948782828899002\nAlexander Zolotov(entity 43.0) and Aleksey Rostovskiy(382.0): -5.939986323956988\nAlexander Koshevoy(entity 24.0) and Alexander Lobas(225.0): -5.927228710395831\nAlexey Utkin(entity 138.0) and Aleksey Rostovskiy(382.0): -5.924013795986852\nAleksey Rostovskiy(entity 382.0) and Elizaveta Shashkova(441.0): -5.910259875723996\nVitaliy.Bibaev(entity 243.0) and Nikolay Chashnikov(262.0): -5.906327987257802\nAlexander Koshevoy(entity 24.0) and Vladimir Plyashkun(466.0): -5.861610615108292\nVyacheslav Karpukhin(entity 179.0) and Aleksey Rostovskiy(382.0): -5.833053649753543\nSergey Simonchik(entity 233.0) and Aleksey Rostovskiy(382.0): -5.830440144973348\nNikita Skvortsov(entity 78.0) and Aleksey Rostovskiy(382.0): -5.79579116472885\nArtem Bochkarev(entity 187.0) and Nikolay Chashnikov(262.0): -5.782776163514378\nAlexander Koshevoy(entity 24.0) and Vladimir.Petrenko(282.0): -5.760239792468081\nVladimir.Petrenko(entity 282.0) and Aleksey Rostovskiy(382.0): -5.7314503706259705\nSergei Vorobyov(entity 71.0) and Nikolay Chashnikov(262.0): -5.685446434553138\nAlexander Koshevoy(entity 24.0) and Kirill Kirichenko(422.0): -5.678517411045496\nAleksey Rostovskiy(entity 382.0) and Sergey Malenkov(418.0): -5.674549365906551\nAlexander Lobas(entity 225.0) and Aleksey Rostovskiy(382.0): -5.673978469330884\nSergey Simonchik(entity 233.0) and Nikolay Chashnikov(262.0): -5.665722229818937\nJulia Beliaeva(entity 74.0) and Aleksey Rostovskiy(382.0): -5.645415631011445\nNikolay Chashnikov(entity 262.0) and Svetlana.Zemlyanskaya(467.0): -5.629310888742674\nAlexander Lobas(entity 225.0) and Nikolay Chashnikov(262.0): -5.606668503143269\nAlexey Utkin(entity 138.0) and Nikolay Chashnikov(262.0): -5.601634511208658\nNikolay Chashnikov(entity 262.0) and Elizaveta Shashkova(441.0): -5.570407251872223\nAlexander Koshevoy(entity 24.0) and Anton Lobov(483.0): -5.565078971391786\nAlexander Bubenchikov(entity 119.0) and Aleksey Rostovskiy(382.0): -5.542740697834613\nAlexander Koshevoy(entity 24.0) and Liana.Bakradze(48.0): -5.5349598414434436\nNikolay Chashnikov(entity 262.0) and Denis Fokin(340.0): -5.5180435292407\nNikita Skvortsov(entity 78.0) and Nikolay Chashnikov(262.0): -5.500327310192544\nAlexander Koshevoy(entity 24.0) and Eldar Abusalimov(100.0): -5.496937745294487\nEldar Abusalimov(entity 100.0) and Nikolay Chashnikov(262.0): -5.487381753360115\n\n\n"
     ],
     "output_type": "stream"
    }
   ],
   "source": [
    "trend_stats = get_diff_stats(diff_trends)\n",
    "\n",
    "def extract_bucket_stats(trend_stats, bucket_edge_index):\n",
    "    entries = []\n",
    "    for ts_row in trend_stats:\n",
    "        dist_diff = ts_row['sums'][bucket_edge_index]\n",
    "        if dist_diff is not None:\n",
    "            entries.append({\n",
    "                'entities': ts_row['entities'],\n",
    "                'names': ts_row['names'],\n",
    "                'distance_diff': dist_diff\n",
    "            })\n",
    "    entries = sorted(entries, key = lambda e: e['distance_diff'])\n",
    "    \n",
    "    bucket_stats = {\n",
    "        'bucket1': bucket_edge_index + 1,\n",
    "        'bucket2': bucket_edge_index + 2,\n",
    "        'entries': entries\n",
    "    }\n",
    "    return bucket_stats\n",
    "\n",
    "for bucket in range(n_buckets-1):\n",
    "    bs = extract_bucket_stats(trend_stats, bucket)\n",
    "    print(\"Most prominent relative distance changes between buckets {} and {}, summed across {} runs\".format(bs['bucket1'], bs['bucket2'], n_runs))\n",
    "    for ei in range(50):\n",
    "        entry = bs['entries'][ei]\n",
    "        print(\"{}(entity {}) and {}({}): {}\".format(\n",
    "            entry['names'][0],\n",
    "            entry['entities'][0],\n",
    "            entry['names'][1],\n",
    "            entry['entities'][1],\n",
    "            entry['distance_diff']\n",
    "        ))\n",
    "    print(\"\\n\")\n",
    "    \n",
    "    "
   ],
   "metadata": {
    "collapsed": false,
    "pycharm": {
     "name": "#%%        \n",
     "is_executing": false
    }
   }
  }
 ],
 "metadata": {
  "kernelspec": {
   "display_name": "Python 3",
   "language": "python",
   "name": "python3"
  },
  "language_info": {
   "codemirror_mode": {
    "name": "ipython",
    "version": 2
   },
   "file_extension": ".py",
   "mimetype": "text/x-python",
   "name": "python",
   "nbconvert_exporter": "python",
   "pygments_lexer": "ipython2",
   "version": "2.7.6"
  },
  "pycharm": {
   "stem_cell": {
    "cell_type": "raw",
    "source": [],
    "metadata": {
     "collapsed": false
    }
   }
  }
 },
 "nbformat": 4,
 "nbformat_minor": 0
}